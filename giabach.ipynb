{
 "cells": [
  {
   "cell_type": "code",
   "execution_count": null,
   "metadata": {
    "vscode": {
     "languageId": "plaintext"
    }
   },
   "outputs": [],
   "source": [
    "t = int(input())\n",
    "kq = []\n",
    "def euler(n):\n",
    "    i = 2\n",
    "    m = 1\n",
    "    while n > 1:\n",
    "        if n % i == 0:\n",
    "            n = n // i\n",
    "            m *= (i-1)\n",
    "        while n % i == 0:\n",
    "            n = n // i\n",
    "            m *= i\n",
    "        i += 1\n",
    "    return m\n",
    "for i in range(t):\n",
    "    n = int(input())\n",
    "    kq.append(euler(n))\n",
    "\n",
    "for i in kq:\n",
    "    print(i)"
   ]
  }
 ],
 "metadata": {
  "language_info": {
   "name": "python"
  }
 },
 "nbformat": 4,
 "nbformat_minor": 2
}
